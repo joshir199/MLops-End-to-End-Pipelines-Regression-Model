{
  "nbformat": 4,
  "nbformat_minor": 0,
  "metadata": {
    "colab": {
      "provenance": []
    },
    "kernelspec": {
      "name": "python3",
      "display_name": "Python 3"
    },
    "language_info": {
      "name": "python"
    }
  },
  "cells": [
    {
      "cell_type": "markdown",
      "source": [
        "#MLflow project - single step training pipeline for MLOps with git versioning"
      ],
      "metadata": {
        "id": "4_08h73XjHox"
      }
    },
    {
      "cell_type": "code",
      "execution_count": null,
      "metadata": {
        "id": "CPBTZT9TZ6Po"
      },
      "outputs": [],
      "source": [
        "#!pip install mlflow"
      ]
    },
    {
      "cell_type": "code",
      "source": [
        "import mlflow\n",
        "import warnings\n",
        "from mlflow import projects"
      ],
      "metadata": {
        "id": "0ySbxz74aJmd"
      },
      "execution_count": null,
      "outputs": []
    },
    {
      "cell_type": "code",
      "source": [
        "print(mlflow.__version__)"
      ],
      "metadata": {
        "colab": {
          "base_uri": "https://localhost:8080/"
        },
        "id": "8L5deOsyagx8",
        "outputId": "f93d156b-92f3-4a28-cda7-23285e43aa75"
      },
      "execution_count": null,
      "outputs": [
        {
          "output_type": "stream",
          "name": "stdout",
          "text": [
            "2.7.1\n"
          ]
        }
      ]
    },
    {
      "cell_type": "code",
      "source": [
        "# Defining multiple sets of experimentation parameters for training purpose.\n",
        "parameters = [\n",
        "    {\"n_estimator\":35},\n",
        "    {\"n_estimator\":40},\n",
        "    {\"n_estimator\":45}\n",
        "]\n",
        "ml_project_uri = \"https://github.com/joshir199/MLflow-project-for-Regression-Model.git\""
      ],
      "metadata": {
        "id": "D4aFhxQ5akbM"
      },
      "execution_count": 9,
      "outputs": []
    },
    {
      "cell_type": "code",
      "source": [
        "# training regression model MLproject for different sets of parameters\n",
        "# in a unified way for continuous training and experimentation pipeline\n",
        "for params in parameters:\n",
        "  print(\" running params value: \", params)\n",
        "  reg_project_run = mlflow.run(ml_project_uri, parameters=params)\n",
        "  print(\" project running status: \", reg_project_run.get_status())\n",
        "  print(\"mlflow run id: \", reg_project_run.run_id)"
      ],
      "metadata": {
        "id": "oN8cS_ETdeid"
      },
      "execution_count": null,
      "outputs": []
    },
    {
      "cell_type": "code",
      "source": [
        "# This model training can be done using Multi-step items defined in a sequential\n",
        "# manner for steps like, Load data, ETL, ML definition and ML training."
      ],
      "metadata": {
        "id": "nHQ__DGWe2ci"
      },
      "execution_count": null,
      "outputs": []
    }
  ]
}